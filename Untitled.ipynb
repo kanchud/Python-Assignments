{
 "cells": [
  {
   "cell_type": "code",
   "execution_count": 1,
   "id": "e584a30f-68b3-4e91-b23e-5b18624c6e5c",
   "metadata": {},
   "outputs": [],
   "source": [
    "class Node:\n",
    "    \n",
    "    def __init__(self, data, next=None):\n",
    "        self.data=data\n",
    "        self.next=next\n",
    "        \n",
    "    def getdata(self):\n",
    "        return self.data\n",
    "    \n",
    "    def setdata(self, data):\n",
    "        self.data=data\n",
    "    \n",
    "    def getnext(self):\n",
    "        return self.next\n",
    "\n",
    "    def setnext(self):\n",
    "        self.next=next"
   ]
  },
  {
   "cell_type": "code",
   "execution_count": 2,
   "id": "a47b1c92-87ee-400b-8c67-07ea07c455f7",
   "metadata": {},
   "outputs": [],
   "source": [
    "class QueueLL:\n",
    "    \n",
    "    def __init__(self):\n",
    "        self.head=None\n",
    "        self.tail=None\n",
    "        self.size=0\n",
    "        \n",
    "    \n",
    "    def isEmpty(self):\n",
    "        return self.head==None\n",
    "    \n",
    "    def enqueue(self,data):\n",
    "        node=Node(data)\n",
    "        \n",
    "        if self.isEmpty():\n",
    "            self.head=None\n",
    "            self.tail=None\n",
    "            \n",
    "        else:\n",
    "            self.tail.setnext(node)\n",
    "            self.tail=self.tail.getnext()\n",
    "            \n",
    "        self.size+=1\n",
    "            \n",
    "    def dequeue(self):\n",
    "        \n",
    "        if self.isEmpty():\n",
    "            print (\"Stack is underflow\")\n",
    "            return\n",
    "        data= self.head.getdata()\n",
    "        \n",
    "        if self.head==self.tail:\n",
    "            self.head=None\n",
    "            self.tail=None\n",
    "            \n",
    "        else:\n",
    "            self.head=self.head.getnext()\n",
    "        self.size-=1\n",
    "        return data\n",
    "    \n",
    "    \n",
    "    def traverse(self):\n",
    "        temp=self.head\n",
    "        \n",
    "        while temp:\n",
    "            print(temp.getdata(), end=\",\")\n",
    "            temp=temp.getnext()\n",
    "            \n",
    "        print()"
   ]
  },
  {
   "cell_type": "code",
   "execution_count": 3,
   "id": "a6af4ba0-0a3f-410e-a745-69eeba9f8ad0",
   "metadata": {},
   "outputs": [],
   "source": [
    "#Implement Stack using Queue\n",
    "\n",
    "class StackQ:\n",
    "    \n",
    "    def __init__(self):\n",
    "        self.q1=QueueLL()\n",
    "        self.q2=QueueLL()\n",
    "        \n",
    "    def isEmpty(self):\n",
    "        return self.q1.isEmpty()\n",
    "    \n",
    "    \n",
    "    def push(self,data):\n",
    "        return self.q1.enqueue(data)\n",
    "        \n",
    "        \n",
    "    def pop(self):\n",
    "        if self.isEmpty():\n",
    "            print(\"Stack is underflow\")\n",
    "            \n",
    "        data=None\n",
    "            \n",
    "        while not self.q1.isEmpty():\n",
    "            data=self.q1.dequeue()\n",
    "            if (not self.q1.isEmpty()):\n",
    "                self.q2.enqueue(data)\n",
    "                \n",
    "        self.q1, self.q2= self.q2, self.q1\n",
    "        return data\n",
    "    \n",
    "    \n",
    "    def travers(self):\n",
    "        self.q1.traverse()"
   ]
  },
  {
   "cell_type": "code",
   "execution_count": 4,
   "id": "d96ad70c-7fba-4d77-87f5-6f67329bf69d",
   "metadata": {},
   "outputs": [],
   "source": [
    "s=StackQ()"
   ]
  },
  {
   "cell_type": "code",
   "execution_count": 5,
   "id": "924316ac-7c68-4886-8bf9-dcbe232793b1",
   "metadata": {},
   "outputs": [
    {
     "data": {
      "text/plain": [
       "True"
      ]
     },
     "execution_count": 5,
     "metadata": {},
     "output_type": "execute_result"
    }
   ],
   "source": [
    "s.isEmpty()"
   ]
  },
  {
   "cell_type": "code",
   "execution_count": 6,
   "id": "3d16b85a-16aa-4c12-bf61-d96a28681e3f",
   "metadata": {},
   "outputs": [],
   "source": [
    "s.push(7)\n",
    "s.push(8)"
   ]
  },
  {
   "cell_type": "code",
   "execution_count": 7,
   "id": "780c4ab2-c89b-4e36-8029-82c81df0c28c",
   "metadata": {},
   "outputs": [
    {
     "name": "stdout",
     "output_type": "stream",
     "text": [
      "\n"
     ]
    }
   ],
   "source": [
    "s.travers()"
   ]
  },
  {
   "cell_type": "code",
   "execution_count": 8,
   "id": "3a384034-1c5b-4ebd-9229-eab5b5c498bc",
   "metadata": {},
   "outputs": [
    {
     "name": "stdout",
     "output_type": "stream",
     "text": [
      "Stack is underflow\n"
     ]
    }
   ],
   "source": [
    "s.pop()"
   ]
  },
  {
   "cell_type": "code",
   "execution_count": null,
   "id": "e5c51287-160d-4026-8b0b-dc91382264cd",
   "metadata": {},
   "outputs": [],
   "source": []
  }
 ],
 "metadata": {
  "kernelspec": {
   "display_name": "Python 3 (ipykernel)",
   "language": "python",
   "name": "python3"
  },
  "language_info": {
   "codemirror_mode": {
    "name": "ipython",
    "version": 3
   },
   "file_extension": ".py",
   "mimetype": "text/x-python",
   "name": "python",
   "nbconvert_exporter": "python",
   "pygments_lexer": "ipython3",
   "version": "3.10.8"
  }
 },
 "nbformat": 4,
 "nbformat_minor": 5
}
