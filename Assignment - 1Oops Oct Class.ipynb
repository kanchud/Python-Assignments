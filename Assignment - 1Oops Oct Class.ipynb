{
 "cells": [
  {
   "cell_type": "code",
   "execution_count": 5,
   "id": "05fdd15e-0145-4838-9a69-51ab3ca095c7",
   "metadata": {},
   "outputs": [
    {
     "name": "stdout",
     "output_type": "stream",
     "text": [
      "Account number is 156789, Account name is kanchan,Account balance is 800\n",
      "Deposit accepted\n",
      "Funds unavailaible\n"
     ]
    }
   ],
   "source": [
    "#Problem 1: Bank Account Create a class representing a bank account with attributes like account number, account holder name, and balance. Implement methods to deposit and withdraw money from the account.\n",
    "class bankaccount:\n",
    "    def __init__(self, accountnumber, holdername, balance):\n",
    "        self.accountnumber= accountnumber\n",
    "        self.holdername= holdername\n",
    "        self.balance= balance\n",
    "        print(f\"Account number is {self.accountnumber}, Account name is {self.holdername},Account balance is {self.balance}\")\n",
    "        \n",
    "    def deposit(self, dept_amt):\n",
    "        self.balance+= dept_amt\n",
    "        print(\"Deposit accepted\")\n",
    "        \n",
    "    def withdraw(self, withdr_amt):\n",
    "        if self.balance>=withdr_amt:\n",
    "            self.balance-=withdr_amt\n",
    "            print(\"withdraw accpeted\")\n",
    "            \n",
    "        else:\n",
    "            print(\"Funds unavailaible\")\n",
    "            \n",
    "a= bankaccount(156789, \"kanchan\", 800)\n",
    "a.deposit(400)\n",
    "a.withdraw(1400)"
   ]
  },
  {
   "cell_type": "code",
   "execution_count": 25,
   "id": "dd89f02c-61a9-423d-ba81-bb09c027384a",
   "metadata": {},
   "outputs": [
    {
     "name": "stdout",
     "output_type": "stream",
     "text": [
      "Employee ID is I692, Name is Kanchan, Salary is 50000\n",
      "yearlybonus is 4165.0\n"
     ]
    }
   ],
   "source": [
    "#Problem 2: Employee Management Create a class representing an employee with attributes like employee ID, name, and salary. \n",
    "#Implement methods to calculate the yearly bonus and display employee details.\n",
    "\n",
    "class Employee:\n",
    "    def __init__(self, employee_id, name, salary):\n",
    "        self.employee_id= employee_id\n",
    "        self.name= name\n",
    "        self.salary= salary\n",
    "        \n",
    "    def employeedeatils(self):\n",
    "        print(f\"Employee ID is {self.employee_id}, Name is {self.name}, Salary is {self.salary}\")\n",
    "        \n",
    "    def yearlybonus(self):\n",
    "        bonusamt=self.salary*8.33/100\n",
    "        return bonusamt\n",
    "\n",
    "a= Employee(\"I692\", \"Kanchan\", 50000)\n",
    "a.employeedeatils()\n",
    "b=a.yearlybonus()\n",
    "print(f\"yearlybonus is {b}\")\n",
    "       "
   ]
  },
  {
   "cell_type": "code",
   "execution_count": 32,
   "id": "9c35afc7-d229-4fee-886b-da1aeec35caf",
   "metadata": {},
   "outputs": [
    {
     "name": "stdout",
     "output_type": "stream",
     "text": [
      "vehicle can be given on rent\n",
      "dont return\n",
      " List of Availaible Vehicles is ['Maruti', 'TATA', 'Audi']\n"
     ]
    }
   ],
   "source": [
    "#Problem 3: Vehicle Rental Create a class representing a vehicle rental system. \n",
    "#Implement methods to rent a vehicle, return a vehicle, and display available vehicles.\n",
    "\n",
    "class Vehiclerentalsystem:\n",
    "    def __init__(self, price, modelnumber, availaible_vehicles):\n",
    "        self.price= price\n",
    "        self.modelnumber= modelnumber\n",
    "        self.availaible_vehicles= availaible_vehicles\n",
    "        \n",
    "    def rent(self, price):\n",
    "        if self.price>=1000:\n",
    "            print(\"vehicle can be given on rent\")\n",
    "            \n",
    "        else:\n",
    "            print(\"vehicle cant be rented\")\n",
    "            \n",
    "    def returnvehicle(self, modelnumber):\n",
    "        if self.modelnumber== 156789:\n",
    "            print(\"Return a Vehicle\")\n",
    "            \n",
    "        else:\n",
    "            print(\"dont return\")\n",
    "            \n",
    "    def availaiblevehicles(self):\n",
    "        print(f\" List of Availaible Vehicles is {self.availaible_vehicles}\")\n",
    "        \n",
    "a= Vehiclerentalsystem(15000, 6789, [\"Maruti\", \"TATA\", \"Audi\"])\n",
    "a.rent(10000)\n",
    "a.returnvehicle(6789)\n",
    "a.availaiblevehicles()\n",
    "    \n",
    "    "
   ]
  },
  {
   "cell_type": "code",
   "execution_count": 1,
   "id": "845617cc-f326-465c-85f2-d27e7b73f530",
   "metadata": {},
   "outputs": [
    {
     "name": "stdout",
     "output_type": "stream",
     "text": [
      " 15 books availaible after addition\n",
      "book can be borrowed\n",
      " Books availaible are ['Secret', 'Alchemist', 'PythonBook']\n"
     ]
    }
   ],
   "source": [
    "#Problem 4: Library Catalog Create classes representing a library and a book. \n",
    "#Implement methods to add books to the library, borrow books, and display available books.\n",
    "\n",
    "class library_book:\n",
    "    def __init__(self, numberofbooks,availaible_books):\n",
    "        self.numberofbooks= numberofbooks\n",
    "        self.availaible_books= availaible_books\n",
    "        \n",
    "    def addbooks(self,add):\n",
    "        add+=self.numberofbooks\n",
    "        print(f\" {add} books availaible after addition\")\n",
    "        \n",
    "    def borrowbooks(self,book):\n",
    "        for i in self.availaible_books:\n",
    "            if i==book:\n",
    "                print(\"book can be borrowed\")\n",
    "                break\n",
    "            else:\n",
    "                print(\"book cant be borrowed\")\n",
    "            \n",
    "    def displayavailablebooks(self):\n",
    "        print(f\" Books availaible are {self.availaible_books}\")\n",
    "        \n",
    "a= library_book(10, [\"Secret\", \"Alchemist\", \"PythonBook\"])\n",
    "a.addbooks(5)\n",
    "a.borrowbooks(\"Secret\")\n",
    "a.displayavailablebooks()\n",
    "                "
   ]
  },
  {
   "cell_type": "code",
   "execution_count": 15,
   "id": "f384a53a-2780-4fcc-bb3e-008c2bf38d45",
   "metadata": {},
   "outputs": [
    {
     "name": "stdout",
     "output_type": "stream",
     "text": [
      "products added\n",
      " Total Quantity of the product in inventory is 7\n",
      " Products Availaible in inventory are ['Product1', 'Product2', 'Product3', 'Product4', 'Product5', 'Product6', 'Product7']\n"
     ]
    }
   ],
   "source": [
    "#Problem 5: Product Inventory Create classes representing a product and an inventory system. \n",
    "# Implement methods to add products to the inventory, update product quantity, and display available products.\n",
    "\n",
    "class productinventory:\n",
    "\n",
    "    \n",
    "    def __init__(self, numberofproducts, list_of_products):\n",
    "        self.numberofproducts= numberofproducts\n",
    "        self.list_of_products= list_of_products\n",
    "        \n",
    "    def addproducts(self,newproducts):\n",
    "        self.numberofproducts+= len(newproducts)\n",
    "        self.list_of_products.extend(newproducts)\n",
    "        print(\"products added\")\n",
    "        \n",
    "    def updatequantity(self):\n",
    "        print(f\" Total Quantity of the product in inventory is {self.numberofproducts}\")\n",
    "        \n",
    "    def availaibleproducts(self):\n",
    "        print(f\" Products Availaible in inventory are {self.list_of_products}\")\n",
    "        \n",
    "a= productinventory(5, [\"Product1\", \"Product2\", \"Product3\", \"Product4\", \"Product5\"])\n",
    "a.addproducts([\"Product6\", \"Product7\"])\n",
    "a.updatequantity()\n",
    "a.availaibleproducts()\n",
    "        "
   ]
  },
  {
   "cell_type": "code",
   "execution_count": 13,
   "id": "416caa03-75a6-4707-ad61-d6fdf1a6072c",
   "metadata": {},
   "outputs": [
    {
     "name": "stdout",
     "output_type": "stream",
     "text": [
      "area of circle is 153.93804002589985\n",
      "perimeter of circle is 43.982297150257104\n",
      "area of rectangle is 35\n",
      "perimeter of rectangle is 24\n",
      "area of triangle is 17.5\n",
      "perimeter of triangle is 12\n"
     ]
    }
   ],
   "source": [
    "#Problem 6: Shape Calculation Create a class representing a shape with attributes like length, width, and height.\n",
    "#Implement methods to calculate the area and perimeter of the shape.\n",
    "\n",
    "import math\n",
    "\n",
    "class shape:\n",
    "    \n",
    "    def calculate_area(self):\n",
    "        pass\n",
    "    \n",
    "    def calculate_perimeter(self):\n",
    "        pass\n",
    "    \n",
    "class Circle(shape):\n",
    "    def __init__(self, radius):\n",
    "        self.radius= radius\n",
    "        \n",
    "    def calculate_area(self):\n",
    "        return math.pi*self.radius**2\n",
    "    \n",
    "    def calculate_perimeter(self):\n",
    "        return math.pi*self.radius*2\n",
    "    \n",
    "class rectangle(shape):\n",
    "    def __init__(self, length, width):\n",
    "        self.length= length\n",
    "        self.width=width\n",
    "        \n",
    "    def calculate_area(self):\n",
    "        return self.length*self.width\n",
    "    \n",
    "    def calculate_perimeter(self):\n",
    "        return 2*(self.length+self.width)\n",
    "    \n",
    "class triangle(shape):\n",
    "    \n",
    "    def __init__(self, height, base, side1, side2):\n",
    "        self.height= height\n",
    "        self.base= base\n",
    "        self.side1= side1\n",
    "        self.side2= side2\n",
    "        \n",
    "    def calculate_area(self):\n",
    "        return 0.5*self.height*self.base\n",
    "    \n",
    "    def calculate_perimeter(self):\n",
    "        return self.base+self.side1+self.side2\n",
    "    \n",
    "    \n",
    "\n",
    "circle=Circle(7)\n",
    "a=circle.calculate_area()\n",
    "b=circle.calculate_perimeter()\n",
    "print(\"area of circle is\", a)\n",
    "print(\"perimeter of circle is\", b)\n",
    "\n",
    "Rectangle= rectangle(7,5)\n",
    "c=Rectangle.calculate_area()\n",
    "d= Rectangle.calculate_perimeter()\n",
    "print(\"area of rectangle is\", c)\n",
    "print(\"perimeter of rectangle is\", d)\n",
    "\n",
    "Triangle= triangle(5,7,3,2)\n",
    "e= Triangle.calculate_area()\n",
    "f= Triangle.calculate_perimeter()\n",
    "print(\"area of triangle is\", e)\n",
    "print(\"perimeter of triangle is\", f)\n"
   ]
  },
  {
   "cell_type": "code",
   "execution_count": 7,
   "id": "a001b2f8-5d77-41db-8a21-53d4009bbd56",
   "metadata": {},
   "outputs": [
    {
     "name": "stdin",
     "output_type": "stream",
     "text": [
      "Enter Student ID i69211\n",
      "Enter Name Kanchan\n"
     ]
    },
    {
     "name": "stdout",
     "output_type": "stream",
     "text": [
      "Enter marks of 5 subjects\n"
     ]
    },
    {
     "name": "stdin",
     "output_type": "stream",
     "text": [
      "Subject1:  98\n",
      "Subject2:  78\n",
      "Subject3:  85\n",
      "Subject4:  86\n",
      "Subject5:  86\n"
     ]
    },
    {
     "name": "stdout",
     "output_type": "stream",
     "text": [
      "Student ID: i69211\n",
      "Student name: Kanchan\n",
      "Grade: A+\n"
     ]
    }
   ],
   "source": [
    "#Problem 7: Student Management Create a class representing a student with attributes like student ID, name, and grades. \n",
    "#Implement methods to calculate the average grade and display student details.\n",
    "\n",
    "class student:\n",
    "    \n",
    "    def __init__(self):\n",
    "        self.studentID= \"\"\n",
    "        self.name= \"\"\n",
    "        self.grades=\"\"\n",
    "        self.total= 0\n",
    "        self.marks=[]\n",
    "        self.percentage= 0\n",
    "        \n",
    "    def studentdetails(self):\n",
    "        self.studentID= input(\"Enter Student ID\")\n",
    "        self.name=input(\"Enter Name\")\n",
    "        print(\"Enter marks of 5 subjects\")\n",
    "        for i in range(5):\n",
    "            self.marks.append(int(input(\"Subject\"+str(i+1)+\": \")))\n",
    "\n",
    "        \n",
    "        \n",
    "    def calculatetotal(self):\n",
    "\n",
    "        for x in self.marks:\n",
    "            self.total+=x\n",
    "            \n",
    "    def calculatepercentage(self):\n",
    "        self.percentage=self.total/5\n",
    "        \n",
    "    def calculategrade(self):\n",
    "        if self.percentage>=80:\n",
    "            self.grades=\"A+\"\n",
    "        elif self.percentage>=75:\n",
    "            self.grades=\"A\"\n",
    "        elif self.percentage>=70:\n",
    "            self.grades=\"B\"\n",
    "        else:\n",
    "            self.grades=\"C\"\n",
    "            \n",
    "            \n",
    "    def displaydetails(self):\n",
    "        print(\"Student ID:\", self.studentID)\n",
    "        print(\"Student name:\", self.name)\n",
    "        print(\"Grade:\", self.grades)\n",
    "\n",
    "    \n",
    "a= student()\n",
    "a.studentdetails()\n",
    "a.calculatetotal()\n",
    "a.calculatepercentage()\n",
    "a.calculategrade()\n",
    "a.displaydetails()         "
   ]
  },
  {
   "cell_type": "code",
   "execution_count": 11,
   "id": "a9bc9471-7898-4b8e-88ac-c193f8c91e58",
   "metadata": {},
   "outputs": [
    {
     "name": "stdin",
     "output_type": "stream",
     "text": [
      "Enter Emailaddress kanchan@gmail.com\n",
      "Enter Recipient email address jd@gmail.com\n",
      "Enter Subject Resume\n",
      "Enter Password kkkkk\n"
     ]
    },
    {
     "name": "stdout",
     "output_type": "stream",
     "text": [
      "kkkkk\n"
     ]
    },
    {
     "name": "stdin",
     "output_type": "stream",
     "text": [
      "enter a content Attached is the resume\n"
     ]
    },
    {
     "name": "stdout",
     "output_type": "stream",
     "text": [
      "Sender: kanchan@gmail.com\n",
      "Recipient: jd@gmail.com\n",
      "Subject: Resume\n"
     ]
    }
   ],
   "source": [
    "#Problem 8: Email Management Create a class representing an email with attributes like sender, recipient, and subject. \n",
    "#Implement methods to send an email and display email details.\n",
    "class emailmanagement:\n",
    "    def __init__(self):\n",
    "        self.sender=input(\"Enter Emailaddress\")\n",
    "        self.recipient=input(\"Enter Recipient email address\")\n",
    "        self.subject=input(\"Enter Subject\")\n",
    "        self.compose=\"\"\n",
    "        \n",
    "    def checksender(self):\n",
    "        a=self.sender.find(\"@gmail.com\")\n",
    "        if a!=-1:\n",
    "            print(input(\"Enter Password\"))\n",
    "            \n",
    "        else:\n",
    "            print(\"Invalid Email\")\n",
    "            \n",
    "    def sendemail(self):\n",
    "        self.compose=input(\"enter a content\")\n",
    "        \n",
    "    def displaydetails(self):\n",
    "        print(\"Sender:\", self.sender)\n",
    "        print(\"Recipient:\", self.recipient)\n",
    "        print(\"Subject:\", self.subject)\n",
    "        \n",
    "b= emailmanagement()\n",
    "b.checksender()\n",
    "b.sendemail()\n",
    "b.displaydetails()"
   ]
  },
  {
   "cell_type": "code",
   "execution_count": null,
   "id": "23e0de35-3b3e-4926-bc13-faa81372e9a3",
   "metadata": {},
   "outputs": [],
   "source": []
  },
  {
   "cell_type": "code",
   "execution_count": null,
   "id": "0b89db63-47fc-451e-8c3a-ff67e2067e18",
   "metadata": {},
   "outputs": [],
   "source": []
  }
 ],
 "metadata": {
  "kernelspec": {
   "display_name": "Python 3 (ipykernel)",
   "language": "python",
   "name": "python3"
  },
  "language_info": {
   "codemirror_mode": {
    "name": "ipython",
    "version": 3
   },
   "file_extension": ".py",
   "mimetype": "text/x-python",
   "name": "python",
   "nbconvert_exporter": "python",
   "pygments_lexer": "ipython3",
   "version": "3.10.8"
  }
 },
 "nbformat": 4,
 "nbformat_minor": 5
}
