{
 "cells": [
  {
   "cell_type": "code",
   "execution_count": 1,
   "id": "7b86e27d-9401-4cb8-a0a7-f43c11da7547",
   "metadata": {},
   "outputs": [],
   "source": [
    "#Declared the 2 variables and assigned the integers , swap the variables without using any temproray variables\n",
    "x=10\n",
    "y=9\n",
    "x,y=y,x"
   ]
  },
  {
   "cell_type": "code",
   "execution_count": 2,
   "id": "48fa1d24-a22a-4903-872d-ad2177e08b2a",
   "metadata": {},
   "outputs": [
    {
     "data": {
      "text/plain": [
       "9"
      ]
     },
     "execution_count": 2,
     "metadata": {},
     "output_type": "execute_result"
    }
   ],
   "source": [
    "x"
   ]
  },
  {
   "cell_type": "code",
   "execution_count": 3,
   "id": "6b0ef44b-cee7-4e4e-ae1b-587e2e01b247",
   "metadata": {},
   "outputs": [
    {
     "data": {
      "text/plain": [
       "10"
      ]
     },
     "execution_count": 3,
     "metadata": {},
     "output_type": "execute_result"
    }
   ],
   "source": [
    "y"
   ]
  },
  {
   "cell_type": "code",
   "execution_count": 15,
   "id": "09b450a8-73d5-4367-bcdf-a3475067cc65",
   "metadata": {},
   "outputs": [
    {
     "name": "stdin",
     "output_type": "stream",
     "text": [
      "Take lenghth 10\n",
      "Take width 9\n"
     ]
    },
    {
     "name": "stdout",
     "output_type": "stream",
     "text": [
      "are of rectangle 90\n"
     ]
    }
   ],
   "source": [
    "#Program that calculates area of rectangle\n",
    "a= int(input(\"Take lenghth\"))\n",
    "b=int(input(\"Take width\"))\n",
    "y=a*b\n",
    "print(\"are of rectangle\", y)"
   ]
  },
  {
   "cell_type": "code",
   "execution_count": 18,
   "id": "8e83b4ac-07af-4443-897d-f8648c78aa3f",
   "metadata": {},
   "outputs": [
    {
     "name": "stdin",
     "output_type": "stream",
     "text": [
      "take the temprature in Celsius 20\n"
     ]
    },
    {
     "name": "stdout",
     "output_type": "stream",
     "text": [
      "Converted into Fahrenheit 68.0\n"
     ]
    }
   ],
   "source": [
    "#Converting temprature from Celsius to Fahrenheit\n",
    "a=int(input(\"take the temprature in Celsius\"))\n",
    "b=(a*1.8)+32\n",
    "print(\"Converted into Fahrenheit\",b)"
   ]
  },
  {
   "cell_type": "code",
   "execution_count": 22,
   "id": "eb131663-bc8a-428d-a4be-da6583d04ac2",
   "metadata": {},
   "outputs": [
    {
     "name": "stdin",
     "output_type": "stream",
     "text": [
      "Take string as input Pwskills\n"
     ]
    },
    {
     "name": "stdout",
     "output_type": "stream",
     "text": [
      "length of String is 8\n"
     ]
    }
   ],
   "source": [
    "#Length of String\n",
    "a=str(input(\"Take string as input\"))\n",
    "print(\"length of String is\",len(a))"
   ]
  },
  {
   "cell_type": "code",
   "execution_count": 12,
   "id": "56d64b9a-34b3-43da-818f-db1c52783b6f",
   "metadata": {},
   "outputs": [
    {
     "name": "stdin",
     "output_type": "stream",
     "text": [
      "Take a sentence My name is kanchan\n"
     ]
    },
    {
     "name": "stdout",
     "output_type": "stream",
     "text": [
      "number of vowels 5\n"
     ]
    }
   ],
   "source": [
    "# Create a program that takes a sentence from the user and counts the number of vowels (a, e, i, o, u) in the string.\n",
    "a=str(input(\"Take a sentence\"))\n",
    "d==0\n",
    "for i in (a):\n",
    "    l=[\"a\",\"e\",\"i\",\"o\",\"u\",\"A\",\"E\",\"I\",\"O\",\"U\"]\n",
    "    if i in l:\n",
    "        d+=1\n",
    "print(\"number of vowels\",d)"
   ]
  },
  {
   "cell_type": "code",
   "execution_count": 17,
   "id": "dcd9f08e-d1b1-4556-a6cc-b89ef5e8b4cc",
   "metadata": {},
   "outputs": [
    {
     "name": "stdout",
     "output_type": "stream",
     "text": [
      "Reversed String sllikswp\n"
     ]
    }
   ],
   "source": [
    "#Given a string, reverse the order of characters using string slicing and print the reversed string.\n",
    "a= \"pwskills\"\n",
    "b=a[::-1]\n",
    "print(\"Reversed String\",b)"
   ]
  },
  {
   "cell_type": "code",
   "execution_count": 19,
   "id": "c82e29a1-1b57-4694-bf69-3306dda0a7de",
   "metadata": {},
   "outputs": [
    {
     "name": "stdin",
     "output_type": "stream",
     "text": [
      "Take a String malayalam\n"
     ]
    },
    {
     "name": "stdout",
     "output_type": "stream",
     "text": [
      "its a palindrome\n"
     ]
    }
   ],
   "source": [
    "#Write a program that takes a string as input and checks if it is a palindrome reads the same forwards and backwards.\n",
    "a= str(input(\"Take a String\"))\n",
    "b= a.replace(\" \",\"\").lower()\n",
    "c=b[::-1]\n",
    "\n",
    "if c==b:\n",
    "    print(\"its a palindrome\")\n",
    "    \n",
    "else:\n",
    "    print(\"its not a palindrome\")\n",
    "    "
   ]
  },
  {
   "cell_type": "code",
   "execution_count": 22,
   "id": "656014a4-c2d9-411c-a7cb-ed7103637590",
   "metadata": {},
   "outputs": [
    {
     "name": "stdin",
     "output_type": "stream",
     "text": [
      "Take an input My   name\n"
     ]
    },
    {
     "name": "stdout",
     "output_type": "stream",
     "text": [
      "Myname\n"
     ]
    }
   ],
   "source": [
    "#Create a program that takes a string as input and removes all the spaces from\n",
    "\n",
    "a= str(input(\"Take an input\"))\n",
    "b=a.replace(\" \",\"\")\n",
    "print(b)"
   ]
  },
  {
   "cell_type": "code",
   "execution_count": null,
   "id": "21900b51-4291-4282-919b-633c499c225f",
   "metadata": {},
   "outputs": [],
   "source": []
  }
 ],
 "metadata": {
  "kernelspec": {
   "display_name": "Python 3 (ipykernel)",
   "language": "python",
   "name": "python3"
  },
  "language_info": {
   "codemirror_mode": {
    "name": "ipython",
    "version": 3
   },
   "file_extension": ".py",
   "mimetype": "text/x-python",
   "name": "python",
   "nbconvert_exporter": "python",
   "pygments_lexer": "ipython3",
   "version": "3.10.8"
  }
 },
 "nbformat": 4,
 "nbformat_minor": 5
}
