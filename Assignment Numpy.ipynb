{
 "cells": [
  {
   "cell_type": "code",
   "execution_count": null,
   "id": "6b28b781-63f7-4174-8807-dc5d05b3f372",
   "metadata": {},
   "outputs": [],
   "source": [
    "#1. What is a Python library? Why do we use Python libraries?\n",
    "# Python library is a collection of functions that can be reused"
   ]
  },
  {
   "cell_type": "code",
   "execution_count": null,
   "id": "cd780f6c-e9c4-490c-97b1-26e3007c9069",
   "metadata": {},
   "outputs": [],
   "source": [
    "#2. What is the difference between Numpy array and List?\n",
    "# Numpy Array stores homogeneous data\n",
    "#List stores heterogeneous data eg. combination of integers and string"
   ]
  },
  {
   "cell_type": "code",
   "execution_count": 1,
   "id": "afbf924f-8d92-4769-b8bd-5707a53fc157",
   "metadata": {},
   "outputs": [],
   "source": [
    "import numpy as np"
   ]
  },
  {
   "cell_type": "code",
   "execution_count": 2,
   "id": "7ae1ac35-a5f5-4039-8d78-b24c940217e9",
   "metadata": {},
   "outputs": [],
   "source": [
    "#3- Find the shape, size and dimension of the following array?\n",
    "arr= np.array([[1,2,3,4], [5,6,7,8], [9,10,11,12]])"
   ]
  },
  {
   "cell_type": "code",
   "execution_count": 3,
   "id": "a533a8a4-1495-4d24-8173-1a277b99b53a",
   "metadata": {},
   "outputs": [
    {
     "data": {
      "text/plain": [
       "array([[ 1,  2,  3,  4],\n",
       "       [ 5,  6,  7,  8],\n",
       "       [ 9, 10, 11, 12]])"
      ]
     },
     "execution_count": 3,
     "metadata": {},
     "output_type": "execute_result"
    }
   ],
   "source": [
    "arr"
   ]
  },
  {
   "cell_type": "code",
   "execution_count": 4,
   "id": "a27a182f-043e-4e23-bf76-b68145d5d681",
   "metadata": {},
   "outputs": [
    {
     "data": {
      "text/plain": [
       "2"
      ]
     },
     "execution_count": 4,
     "metadata": {},
     "output_type": "execute_result"
    }
   ],
   "source": [
    "#Dimension\n",
    "np.ndim(arr)"
   ]
  },
  {
   "cell_type": "code",
   "execution_count": 5,
   "id": "b7edbc0a-dbd4-471d-ace5-d4ca248a773a",
   "metadata": {},
   "outputs": [
    {
     "data": {
      "text/plain": [
       "12"
      ]
     },
     "execution_count": 5,
     "metadata": {},
     "output_type": "execute_result"
    }
   ],
   "source": [
    "#Size\n",
    "np.size(arr)"
   ]
  },
  {
   "cell_type": "code",
   "execution_count": 6,
   "id": "6e4928e6-4976-44fa-ab6c-fb0e6c30ffce",
   "metadata": {},
   "outputs": [
    {
     "data": {
      "text/plain": [
       "(3, 4)"
      ]
     },
     "execution_count": 6,
     "metadata": {},
     "output_type": "execute_result"
    }
   ],
   "source": [
    "#Shape\n",
    "np.shape(arr)"
   ]
  },
  {
   "cell_type": "code",
   "execution_count": 7,
   "id": "be112080-2df4-423a-b8a9-54ef7d25a350",
   "metadata": {},
   "outputs": [
    {
     "data": {
      "text/plain": [
       "array([1, 2, 3, 4])"
      ]
     },
     "execution_count": 7,
     "metadata": {},
     "output_type": "execute_result"
    }
   ],
   "source": [
    "#4. Write python code to access the first row of the following array?\n",
    "arr[0]"
   ]
  },
  {
   "cell_type": "code",
   "execution_count": 8,
   "id": "0a6055ae-6ad6-4b12-a789-f122cbf4028c",
   "metadata": {},
   "outputs": [
    {
     "data": {
      "text/plain": [
       "12"
      ]
     },
     "execution_count": 8,
     "metadata": {},
     "output_type": "execute_result"
    }
   ],
   "source": [
    "#5 How do you access the element at the third row and fourth column from the given numpy array?\n",
    "arr[2][3]"
   ]
  },
  {
   "cell_type": "code",
   "execution_count": 40,
   "id": "fb922347-91e9-4c83-a85d-b9c6b48d09b8",
   "metadata": {},
   "outputs": [
    {
     "data": {
      "text/plain": [
       "array([[ 1,  2,  3,  4],\n",
       "       [ 5,  6,  7,  8],\n",
       "       [ 9, 10, 11, 12]])"
      ]
     },
     "execution_count": 40,
     "metadata": {},
     "output_type": "execute_result"
    }
   ],
   "source": [
    "#6 Write code to extract all odd-indexed elements from the given numpy array?\n",
    "arr"
   ]
  },
  {
   "cell_type": "code",
   "execution_count": 42,
   "id": "5e2612f6-c180-466d-9326-e1a4a0c56a93",
   "metadata": {},
   "outputs": [
    {
     "data": {
      "text/plain": [
       "array([[ 2,  4],\n",
       "       [ 6,  8],\n",
       "       [10, 12]])"
      ]
     },
     "execution_count": 42,
     "metadata": {},
     "output_type": "execute_result"
    }
   ],
   "source": [
    "arr[0:3, (1,3)]"
   ]
  },
  {
   "cell_type": "code",
   "execution_count": 10,
   "id": "d3391461-7f28-49f8-853c-80bd03f2d3b4",
   "metadata": {},
   "outputs": [],
   "source": [
    "#7 How can you generate a ran^om 3x3 matrix with values between 0 an^ 1?\n",
    "arr1= np.random.randint(0,2, size=(3,3))"
   ]
  },
  {
   "cell_type": "code",
   "execution_count": 11,
   "id": "0997d1c0-982a-478a-9ffa-d127d99b62b6",
   "metadata": {},
   "outputs": [
    {
     "data": {
      "text/plain": [
       "array([[1, 0, 0],\n",
       "       [1, 0, 0],\n",
       "       [0, 0, 1]])"
      ]
     },
     "execution_count": 11,
     "metadata": {},
     "output_type": "execute_result"
    }
   ],
   "source": [
    "arr1"
   ]
  },
  {
   "cell_type": "code",
   "execution_count": 12,
   "id": "c02e75bc-4215-4881-84b3-8b8a110b03f6",
   "metadata": {},
   "outputs": [
    {
     "data": {
      "text/plain": [
       "numpy.ndarray"
      ]
     },
     "execution_count": 12,
     "metadata": {},
     "output_type": "execute_result"
    }
   ],
   "source": [
    "type(arr1)"
   ]
  },
  {
   "cell_type": "code",
   "execution_count": 13,
   "id": "e17b864e-25bf-48f1-95d4-337eb20e368d",
   "metadata": {},
   "outputs": [
    {
     "data": {
      "text/plain": [
       "matrix([[1, 0, 0],\n",
       "        [1, 0, 0],\n",
       "        [0, 0, 1]])"
      ]
     },
     "execution_count": 13,
     "metadata": {},
     "output_type": "execute_result"
    }
   ],
   "source": [
    "np.matrix(arr1)"
   ]
  },
  {
   "cell_type": "code",
   "execution_count": 14,
   "id": "7b42e1ab-0ed0-446f-8735-4122f93e7f56",
   "metadata": {},
   "outputs": [],
   "source": [
    "# 2nd way for the above question\n",
    "arr2=np.eye(3)"
   ]
  },
  {
   "cell_type": "code",
   "execution_count": 15,
   "id": "822d1eeb-c485-4c38-a924-a6b21a5ba989",
   "metadata": {},
   "outputs": [
    {
     "data": {
      "text/plain": [
       "array([[1., 0., 0.],\n",
       "       [0., 1., 0.],\n",
       "       [0., 0., 1.]])"
      ]
     },
     "execution_count": 15,
     "metadata": {},
     "output_type": "execute_result"
    }
   ],
   "source": [
    "arr2"
   ]
  },
  {
   "cell_type": "code",
   "execution_count": 16,
   "id": "59ce7845-66bc-4860-aea9-b65274a425f8",
   "metadata": {},
   "outputs": [
    {
     "data": {
      "text/plain": [
       "matrix([[1., 0., 0.],\n",
       "        [0., 1., 0.],\n",
       "        [0., 0., 1.]])"
      ]
     },
     "execution_count": 16,
     "metadata": {},
     "output_type": "execute_result"
    }
   ],
   "source": [
    "np.matrix(arr2)"
   ]
  },
  {
   "cell_type": "code",
   "execution_count": 17,
   "id": "9d3df921-ae91-4178-9c80-2331e96fc930",
   "metadata": {},
   "outputs": [],
   "source": [
    "#8. Describe the difference between np.random.rand and np.random.randn?\n",
    "# The only difference between random.rand and random.randn is\n",
    "# random.rand will give you only positive values\n",
    "# random.randn will give you postive as well as negative"
   ]
  },
  {
   "cell_type": "code",
   "execution_count": 18,
   "id": "bd6910a6-3917-4910-af9c-e1c05ffa499a",
   "metadata": {},
   "outputs": [
    {
     "data": {
      "text/plain": [
       "array([[ 1,  2,  3,  4],\n",
       "       [ 5,  6,  7,  8],\n",
       "       [ 9, 10, 11, 12]])"
      ]
     },
     "execution_count": 18,
     "metadata": {},
     "output_type": "execute_result"
    }
   ],
   "source": [
    "#9. Write co^e to increase the ^imension of the following array?\n",
    "arr"
   ]
  },
  {
   "cell_type": "code",
   "execution_count": 19,
   "id": "18e51c61-a1ae-495b-9295-db2635224f6f",
   "metadata": {},
   "outputs": [
    {
     "data": {
      "text/plain": [
       "array([[[ 1,  2,  3,  4],\n",
       "        [ 5,  6,  7,  8],\n",
       "        [ 9, 10, 11, 12]]])"
      ]
     },
     "execution_count": 19,
     "metadata": {},
     "output_type": "execute_result"
    }
   ],
   "source": [
    "np.expand_dims(arr, axis=0)"
   ]
  },
  {
   "cell_type": "code",
   "execution_count": 20,
   "id": "5ec1d774-2014-4d23-8244-36a7446c056d",
   "metadata": {},
   "outputs": [
    {
     "data": {
      "text/plain": [
       "array([[ 1,  2,  3,  4],\n",
       "       [ 5,  6,  7,  8],\n",
       "       [ 9, 10, 11, 12]])"
      ]
     },
     "execution_count": 20,
     "metadata": {},
     "output_type": "execute_result"
    }
   ],
   "source": [
    "#10. How to transpose the following array in NumPy?\n",
    "arr"
   ]
  },
  {
   "cell_type": "code",
   "execution_count": 21,
   "id": "04b1021a-68bf-438c-98e6-cd0701c681c2",
   "metadata": {},
   "outputs": [
    {
     "data": {
      "text/plain": [
       "array([[ 1,  5,  9],\n",
       "       [ 2,  6, 10],\n",
       "       [ 3,  7, 11],\n",
       "       [ 4,  8, 12]])"
      ]
     },
     "execution_count": 21,
     "metadata": {},
     "output_type": "execute_result"
    }
   ],
   "source": [
    "arr.T"
   ]
  },
  {
   "cell_type": "code",
   "execution_count": 34,
   "id": "ef6dda60-ba0a-4888-8866-8ad3f4ec3002",
   "metadata": {},
   "outputs": [],
   "source": [
    "#11 Consider the following matrix:\n",
    "\n",
    "arr2=np.array([[1,2,3,4], [5,6,7,8], [9,10,11,12]])\n",
    "\n",
    "arr3=np.array([[1,2,3,4], [5,6,7,8], [9,10,11,12]])"
   ]
  },
  {
   "cell_type": "code",
   "execution_count": 35,
   "id": "ba6bff02-0325-47da-b71c-bbcb0cc2c42b",
   "metadata": {},
   "outputs": [
    {
     "data": {
      "text/plain": [
       "array([[  1,   4,   9,  16],\n",
       "       [ 25,  36,  49,  64],\n",
       "       [ 81, 100, 121, 144]])"
      ]
     },
     "execution_count": 35,
     "metadata": {},
     "output_type": "execute_result"
    }
   ],
   "source": [
    "#Index wiLe multiplication\n",
    "arr2*arr3"
   ]
  },
  {
   "cell_type": "code",
   "execution_count": 36,
   "id": "9dd551d4-ac68-4f87-a173-d35fc15f2e18",
   "metadata": {},
   "outputs": [],
   "source": [
    "# Matrix multiplication\n",
    "#This will not be possible as its not off n*n shape"
   ]
  },
  {
   "cell_type": "code",
   "execution_count": 37,
   "id": "502df904-a77e-438a-9d57-7c52769e7b88",
   "metadata": {},
   "outputs": [
    {
     "data": {
      "text/plain": [
       "array([[ 2,  4,  6,  8],\n",
       "       [10, 12, 14, 16],\n",
       "       [18, 20, 22, 24]])"
      ]
     },
     "execution_count": 37,
     "metadata": {},
     "output_type": "execute_result"
    }
   ],
   "source": [
    "#Add both the matrix\n",
    "arr2+arr3"
   ]
  },
  {
   "cell_type": "code",
   "execution_count": 38,
   "id": "69a029f5-bd59-44ab-a94d-004d26650add",
   "metadata": {},
   "outputs": [
    {
     "data": {
      "text/plain": [
       "array([[0, 0, 0, 0],\n",
       "       [0, 0, 0, 0],\n",
       "       [0, 0, 0, 0]])"
      ]
     },
     "execution_count": 38,
     "metadata": {},
     "output_type": "execute_result"
    }
   ],
   "source": [
    "#Subtract matrix B from A\n",
    "arr2-arr3"
   ]
  },
  {
   "cell_type": "code",
   "execution_count": 39,
   "id": "47a6ad55-2c43-4297-8351-ebee3aba25e6",
   "metadata": {},
   "outputs": [
    {
     "data": {
      "text/plain": [
       "array([[1., 1., 1., 1.],\n",
       "       [1., 1., 1., 1.],\n",
       "       [1., 1., 1., 1.]])"
      ]
     },
     "execution_count": 39,
     "metadata": {},
     "output_type": "execute_result"
    }
   ],
   "source": [
    "#Divide Matrix B by A\n",
    "arr3/arr2"
   ]
  },
  {
   "cell_type": "code",
   "execution_count": null,
   "id": "959ea750-3442-4d11-b8e1-861879017a74",
   "metadata": {},
   "outputs": [],
   "source": [
    "#12.Which function in Numpy can be used to swap the byte order of an array?\n",
    "#ndarray.byteswap"
   ]
  },
  {
   "cell_type": "code",
   "execution_count": null,
   "id": "a57e7863-930a-40b3-9164-1630ec2ec14c",
   "metadata": {},
   "outputs": [],
   "source": [
    "#13.What is the significance of the np.linalg.inv function?\n",
    "#Used to calculate the inverse of an matrix"
   ]
  },
  {
   "cell_type": "code",
   "execution_count": 43,
   "id": "db57eb2c-3449-4048-a34b-b87350bfa60a",
   "metadata": {},
   "outputs": [],
   "source": [
    "#14. What does the np.reshape function do, and how is it used?\n",
    "#np.reshape function reshapes the array into a given shape (rows, columns)"
   ]
  },
  {
   "cell_type": "code",
   "execution_count": null,
   "id": "b7a25b07-746f-4758-92f8-22277546a7d7",
   "metadata": {},
   "outputs": [],
   "source": [
    "#15. What is broadcasting in Numpy?\n",
    "#Breoadcasting means ability of numpy to treat arrays with different dimensions"
   ]
  }
 ],
 "metadata": {
  "kernelspec": {
   "display_name": "Python 3 (ipykernel)",
   "language": "python",
   "name": "python3"
  },
  "language_info": {
   "codemirror_mode": {
    "name": "ipython",
    "version": 3
   },
   "file_extension": ".py",
   "mimetype": "text/x-python",
   "name": "python",
   "nbconvert_exporter": "python",
   "pygments_lexer": "ipython3",
   "version": "3.10.8"
  }
 },
 "nbformat": 4,
 "nbformat_minor": 5
}
