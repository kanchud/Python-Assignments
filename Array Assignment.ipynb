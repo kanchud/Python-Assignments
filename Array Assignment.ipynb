{
 "cells": [
  {
   "cell_type": "code",
   "execution_count": 1,
   "id": "98d92d62-b660-4d5e-9cac-bb2418d21388",
   "metadata": {},
   "outputs": [
    {
     "name": "stdout",
     "output_type": "stream",
     "text": [
      "True\n"
     ]
    }
   ],
   "source": [
    "#1. Given an array, check if it contains any duplicates or not.\n",
    "#arr = [1, 2, 4, 2, 5, 9]\n",
    "#Output = True\n",
    "\n",
    "def duplicate(arr):\n",
    "    \n",
    "    for i in range(0,len(arr)-1):\n",
    "        for j in range(i+1, len(arr)):\n",
    "            if (arr[i]==arr[j]):\n",
    "                return True\n",
    "            \n",
    "    return False\n",
    "            \n",
    "arr=[1,2,4,2,5,9]\n",
    "a=duplicate(arr)\n",
    "print(a)"
   ]
  },
  {
   "cell_type": "code",
   "execution_count": 2,
   "id": "e662b62f-492b-4a69-9095-ef130b22ac75",
   "metadata": {},
   "outputs": [
    {
     "name": "stdout",
     "output_type": "stream",
     "text": [
      "[5, 6, 7, 1, 2, 3, 4]\n"
     ]
    }
   ],
   "source": [
    "#2. Given an array and an integer k, rotate the array to the right by k steps.\n",
    "#arr = [1, 2, 3, 4, 5, 6, 7] k = 3\n",
    "#Output = [5, 6, 7, 1, 2, 3, 4]\n",
    "\n",
    "def reverse(arr,si,ei):\n",
    "    if si>=ei:\n",
    "        return\n",
    "    arr[si], arr[ei]=arr[ei], arr[si]\n",
    "            \n",
    "    reverse(arr, si+1, ei-1)\n",
    "        \n",
    "def rotationarray(arr,k):\n",
    "    k=k%len(arr)\n",
    "    \n",
    "    reverse(arr,0,len(arr)-1)\n",
    "    \n",
    "    reverse(arr,0,k-1)\n",
    "    \n",
    "    reverse(arr,k,len(arr)-1)\n",
    "\n",
    "arr=[1,2,3,4,5,6,7]\n",
    "rotationarray(arr,3)\n",
    "print(arr)"
   ]
  },
  {
   "cell_type": "code",
   "execution_count": 3,
   "id": "a2e27c3e-b10a-4bd6-aefb-3b6ed2248594",
   "metadata": {},
   "outputs": [
    {
     "name": "stdout",
     "output_type": "stream",
     "text": [
      "[12, 9, 7, 5, 4, 2]\n"
     ]
    }
   ],
   "source": [
    "#3. Reverse the given array in-place, means without using any extra data structure.\n",
    "#arr = [2, 4, 5, 7, 9, 12]\n",
    "#Output = [12, 9, 7, 5, 4, 2]\n",
    "\n",
    "def reversearray(arr, si, ei):\n",
    "    \n",
    "    if si>=ei:\n",
    "        return\n",
    "    \n",
    "    arr[si], arr[ei]=arr[ei], arr[si]\n",
    "    \n",
    "    reversearray(arr, si+1, ei-1)\n",
    "    \n",
    "arr=[2,4,5,7,9,12]\n",
    "reversearray(arr,0,len(arr)-1)\n",
    "print(arr)\n",
    "    "
   ]
  },
  {
   "cell_type": "code",
   "execution_count": 4,
   "id": "8b3c0b5d-5e59-4896-b580-2c0d7d1d26ae",
   "metadata": {},
   "outputs": [
    {
     "name": "stdout",
     "output_type": "stream",
     "text": [
      "20\n"
     ]
    }
   ],
   "source": [
    "#4. Given an array of integers, find the maximum element in an array\n",
    "#arr = [10, 5, 20, 8, 15]\n",
    "#Output = 20\n",
    "\n",
    "def maximumarray(arr, a):\n",
    "\n",
    "    \n",
    "    if a<=1:\n",
    "        return arr[0]\n",
    "    \n",
    "    else:\n",
    "        return max(arr[a-1], maximumarray(arr, a-1))\n",
    "\n",
    "arr=[10,5,20,8,15]\n",
    "result=maximumarray(arr,len(arr))\n",
    "print(result)"
   ]
  },
  {
   "cell_type": "code",
   "execution_count": 12,
   "id": "e17c0680-357e-4bca-bb5f-0817eedcb20e",
   "metadata": {},
   "outputs": [
    {
     "name": "stdout",
     "output_type": "stream",
     "text": [
      "[1, 2, 3, 4, 5]\n"
     ]
    }
   ],
   "source": [
    "#5. Given a sorted array, remove the duplicate element without using any extra data structure.\n",
    "#arr = [1, 1, 2, 2, 2, 3, 3, 4, 4, 4, 5, 5]\n",
    "#Output = [1, 2, 3, 4, 5]\n",
    "\n",
    "def removeduplicates(arr,si, a):\n",
    "    \n",
    "    if si>=a:\n",
    "        return arr[:a+1]\n",
    "    if arr[si]==arr[si+1]:\n",
    "        for i in range (si, len(arr)-1):\n",
    "            arr[i]=arr[i+1]\n",
    "        return removeduplicates(arr, si, a-1)\n",
    "    return removeduplicates(arr, si+1, a)\n",
    "        \n",
    "arr=[1,1,2,2,2,3,3,4,4,4,5,5]\n",
    "result=removeduplicates(arr,0,len(arr)-1)\n",
    "print(result)"
   ]
  }
 ],
 "metadata": {
  "kernelspec": {
   "display_name": "Python 3 (ipykernel)",
   "language": "python",
   "name": "python3"
  },
  "language_info": {
   "codemirror_mode": {
    "name": "ipython",
    "version": 3
   },
   "file_extension": ".py",
   "mimetype": "text/x-python",
   "name": "python",
   "nbconvert_exporter": "python",
   "pygments_lexer": "ipython3",
   "version": "3.10.8"
  }
 },
 "nbformat": 4,
 "nbformat_minor": 5
}
