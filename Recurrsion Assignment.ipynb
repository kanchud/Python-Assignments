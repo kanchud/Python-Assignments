{
 "cells": [
  {
   "cell_type": "code",
   "execution_count": 1,
   "id": "4baa4d22-e7d0-4840-a1dc-4bacc55180b7",
   "metadata": {},
   "outputs": [
    {
     "name": "stdout",
     "output_type": "stream",
     "text": [
      "7\n"
     ]
    }
   ],
   "source": [
    "#Q.1 Can you explain the logic and working of the Tower of Hanoi algorithm by writing a Java program?\n",
    "#How does the recursion work, and how are the movements of disks between rods accomplished?\n",
    "def moves(n,a, b, c):\n",
    "    \n",
    "    #n represents the number of disks, and a,b and c represents the rods now end goal is to move the rods to disk c\n",
    "    \n",
    "    if n==1:\n",
    "        return 1\n",
    "    \n",
    "    # Logic to calculate the number of moves required to transfer the 3 disk from rod a to c\n",
    "    \n",
    "    return moves((n-1), a, b, c)+1+moves((n-1),b,c,a)\n",
    "\n",
    "print(moves(3, 3, 0, 0))"
   ]
  },
  {
   "cell_type": "code",
   "execution_count": 12,
   "id": "0ebd1a88-8f70-425a-a381-aadd4a08de6f",
   "metadata": {},
   "outputs": [
    {
     "name": "stdout",
     "output_type": "stream",
     "text": [
      "3\n"
     ]
    }
   ],
   "source": [
    "#Q.2 Given two strings word1 and word2, return the minimum number of operations required to convert word1 to word2.\n",
    "def conversion(word1, word2, m, n):\n",
    "    \n",
    "    if m==0:\n",
    "        return n\n",
    "    \n",
    "    if n==0:\n",
    "        return m\n",
    "    \n",
    "    if word1[m-1]==word2[n-1]:\n",
    "        return conversion(word1, word2, m-1, n-1)\n",
    "    \n",
    "    else:\n",
    "        return 1+min(conversion(word1, word2, m, n-1), conversion(word1, word2, m-1, n-1), conversion(word1, word2, m-1, n))\n",
    "    \n",
    "\n",
    "word1=\"horse\"\n",
    "word2=\"ros\"\n",
    "\n",
    "result= conversion(word1, word2, len(word1), len(word2))\n",
    "\n",
    "print(result)  "
   ]
  },
  {
   "cell_type": "code",
   "execution_count": 3,
   "id": "8945b424-dfc7-4717-a2c0-a1203cc6bb48",
   "metadata": {},
   "outputs": [
    {
     "name": "stdout",
     "output_type": "stream",
     "text": [
      "22\n"
     ]
    }
   ],
   "source": [
    "#Q. 3 Print the max value of the array [ 13, 1, -3, 22, 5].\n",
    "def maxvalue(arr, si):\n",
    "    \n",
    "    if si==1:\n",
    "        return arr[si]\n",
    "    \n",
    "    else:\n",
    "        return max((arr[si-1]), maxvalue(arr, si-1))\n",
    "    \n",
    "print (maxvalue([13,1,-3,22,5],5))\n",
    "\n"
   ]
  },
  {
   "cell_type": "code",
   "execution_count": 6,
   "id": "54bb9cf7-19d8-4b87-8f00-e1f1ca52b2f4",
   "metadata": {},
   "outputs": [
    {
     "name": "stdout",
     "output_type": "stream",
     "text": [
      "120\n"
     ]
    }
   ],
   "source": [
    "#Q.4 Find the sum of the values of the array [92, 23, 15, -20, 10].\n",
    "def findsum(arr, si):\n",
    "    if si==0:\n",
    "        return 0\n",
    "    \n",
    "    else:\n",
    "        return arr[si-1]+ findsum(arr, si-1)\n",
    "\n",
    "arr= [92,23,15,-20,10]\n",
    "si=len(arr)\n",
    "result= findsum(arr,si)\n",
    "print (result)"
   ]
  },
  {
   "cell_type": "code",
   "execution_count": 9,
   "id": "c0c1698e-7ea0-4e27-9c3d-96c82381b4af",
   "metadata": {},
   "outputs": [
    {
     "name": "stdin",
     "output_type": "stream",
     "text": [
      "Enter a number 134\n"
     ]
    },
    {
     "name": "stdout",
     "output_type": "stream",
     "text": [
      "134 its not an Armstrong number\n",
      "None\n"
     ]
    }
   ],
   "source": [
    "#Given a number n. Print if it is an armstrong number or not.An armstrong number is a number if the sum\n",
    "of every digit in that number raised to the power of total digits in that number is equal to the number.\n",
    "def armstrongno(n):\n",
    "    #Take the length of an integer\n",
    "    a= len(str(n))\n",
    "    # Initialize the value of sum with starting as 0\n",
    "    sum=0\n",
    "    temp=n\n",
    "    #Create a variable to store the last digit by using module 10\n",
    "    while temp>0:\n",
    "        digit=temp%10\n",
    "    #Perform a submission\n",
    "        sum+=digit**a\n",
    "    #then store the remaining the digits\n",
    "        temp//=10\n",
    "    \n",
    "    if n==sum:\n",
    "        print(n, \"Its an Armstrong number\")\n",
    "    \n",
    "    else:\n",
    "        print(n, \"its not an Armstrong number\")\n",
    "    \n",
    "n=int(input(\"Enter a number\"))\n",
    "result= armstrongno(n)\n",
    "print(result)"
   ]
  },
  {
   "cell_type": "code",
   "execution_count": null,
   "id": "70297bc3-8d0d-44fa-b626-6d6424a90225",
   "metadata": {},
   "outputs": [],
   "source": []
  }
 ],
 "metadata": {
  "kernelspec": {
   "display_name": "Python 3 (ipykernel)",
   "language": "python",
   "name": "python3"
  },
  "language_info": {
   "codemirror_mode": {
    "name": "ipython",
    "version": 3
   },
   "file_extension": ".py",
   "mimetype": "text/x-python",
   "name": "python",
   "nbconvert_exporter": "python",
   "pygments_lexer": "ipython3",
   "version": "3.10.8"
  }
 },
 "nbformat": 4,
 "nbformat_minor": 5
}
